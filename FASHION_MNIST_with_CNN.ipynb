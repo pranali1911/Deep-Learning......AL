{
 "cells": [
  {
   "cell_type": "code",
   "execution_count": 1,
   "id": "24688646",
   "metadata": {},
   "outputs": [
    {
     "name": "stdout",
     "output_type": "stream",
     "text": [
      "2.6.2\n"
     ]
    }
   ],
   "source": [
    "# Tensorflow and tf.keras\n",
    "import tensorflow as tf\n",
    "from tensorflow import keras\n",
    "from tensorflow.keras import datasets, layers, models\n",
    "\n",
    "\n",
    "#helper Libraries\n",
    "import numpy as np\n",
    "import matplotlib.pyplot as plt\n",
    "import seaborn as sns\n",
    "\n",
    "\n",
    "\n",
    "print(tf.__version__)"
   ]
  },
  {
   "cell_type": "code",
   "execution_count": 2,
   "id": "bbc4482f",
   "metadata": {},
   "outputs": [],
   "source": [
    "fashion_mnist = keras.datasets.fashion_mnist"
   ]
  },
  {
   "cell_type": "code",
   "execution_count": 3,
   "id": "f24aa0bd",
   "metadata": {},
   "outputs": [],
   "source": [
    "(train_images,train_labels),(test_images,test_labels) = fashion_mnist.load_data()"
   ]
  },
  {
   "cell_type": "code",
   "execution_count": 4,
   "id": "891b5052",
   "metadata": {},
   "outputs": [
    {
     "data": {
      "text/plain": [
       "(60000, 28, 28)"
      ]
     },
     "execution_count": 4,
     "metadata": {},
     "output_type": "execute_result"
    }
   ],
   "source": [
    "train_images.shape"
   ]
  },
  {
   "cell_type": "code",
   "execution_count": 5,
   "id": "ce643ba0",
   "metadata": {},
   "outputs": [
    {
     "data": {
      "text/plain": [
       "(10000, 28, 28)"
      ]
     },
     "execution_count": 5,
     "metadata": {},
     "output_type": "execute_result"
    }
   ],
   "source": [
    "test_images.shape"
   ]
  },
  {
   "cell_type": "code",
   "execution_count": 6,
   "id": "05bbb599",
   "metadata": {},
   "outputs": [
    {
     "data": {
      "text/plain": [
       "array([9, 0, 0, ..., 3, 0, 5], dtype=uint8)"
      ]
     },
     "execution_count": 6,
     "metadata": {},
     "output_type": "execute_result"
    }
   ],
   "source": [
    "train_labels"
   ]
  },
  {
   "cell_type": "code",
   "execution_count": 7,
   "id": "4a9e1e0c",
   "metadata": {},
   "outputs": [
    {
     "data": {
      "text/plain": [
       "array([[  0,   0,   0,   0,   0,   0,   0,   0,   0,   0,   0,   0,   0,\n",
       "          0,   0,   0,   0,   0,   0,   0,   0,   0,   0,   0,   0,   0,\n",
       "          0,   0],\n",
       "       [  0,   0,   0,   0,   0,   0,   0,   0,   0,   0,   0,   0,   0,\n",
       "          0,   0,   0,   0,   0,   0,   0,   0,   0,   0,   0,   0,   0,\n",
       "          0,   0],\n",
       "       [  0,   0,   0,   0,   0,   0,   0,   0,   0,   0,   0,   0,   0,\n",
       "          0,   0,   0,   0,   0,   0,   0,   0,   0,   0,   0,   0,   0,\n",
       "          0,   0],\n",
       "       [  0,   0,   0,   0,   0,   0,   0,   0,   0,   0,   0,   0,   1,\n",
       "          0,   0,  13,  73,   0,   0,   1,   4,   0,   0,   0,   0,   1,\n",
       "          1,   0],\n",
       "       [  0,   0,   0,   0,   0,   0,   0,   0,   0,   0,   0,   0,   3,\n",
       "          0,  36, 136, 127,  62,  54,   0,   0,   0,   1,   3,   4,   0,\n",
       "          0,   3],\n",
       "       [  0,   0,   0,   0,   0,   0,   0,   0,   0,   0,   0,   0,   6,\n",
       "          0, 102, 204, 176, 134, 144, 123,  23,   0,   0,   0,   0,  12,\n",
       "         10,   0],\n",
       "       [  0,   0,   0,   0,   0,   0,   0,   0,   0,   0,   0,   0,   0,\n",
       "          0, 155, 236, 207, 178, 107, 156, 161, 109,  64,  23,  77, 130,\n",
       "         72,  15],\n",
       "       [  0,   0,   0,   0,   0,   0,   0,   0,   0,   0,   0,   1,   0,\n",
       "         69, 207, 223, 218, 216, 216, 163, 127, 121, 122, 146, 141,  88,\n",
       "        172,  66],\n",
       "       [  0,   0,   0,   0,   0,   0,   0,   0,   0,   1,   1,   1,   0,\n",
       "        200, 232, 232, 233, 229, 223, 223, 215, 213, 164, 127, 123, 196,\n",
       "        229,   0],\n",
       "       [  0,   0,   0,   0,   0,   0,   0,   0,   0,   0,   0,   0,   0,\n",
       "        183, 225, 216, 223, 228, 235, 227, 224, 222, 224, 221, 223, 245,\n",
       "        173,   0],\n",
       "       [  0,   0,   0,   0,   0,   0,   0,   0,   0,   0,   0,   0,   0,\n",
       "        193, 228, 218, 213, 198, 180, 212, 210, 211, 213, 223, 220, 243,\n",
       "        202,   0],\n",
       "       [  0,   0,   0,   0,   0,   0,   0,   0,   0,   1,   3,   0,  12,\n",
       "        219, 220, 212, 218, 192, 169, 227, 208, 218, 224, 212, 226, 197,\n",
       "        209,  52],\n",
       "       [  0,   0,   0,   0,   0,   0,   0,   0,   0,   0,   6,   0,  99,\n",
       "        244, 222, 220, 218, 203, 198, 221, 215, 213, 222, 220, 245, 119,\n",
       "        167,  56],\n",
       "       [  0,   0,   0,   0,   0,   0,   0,   0,   0,   4,   0,   0,  55,\n",
       "        236, 228, 230, 228, 240, 232, 213, 218, 223, 234, 217, 217, 209,\n",
       "         92,   0],\n",
       "       [  0,   0,   1,   4,   6,   7,   2,   0,   0,   0,   0,   0, 237,\n",
       "        226, 217, 223, 222, 219, 222, 221, 216, 223, 229, 215, 218, 255,\n",
       "         77,   0],\n",
       "       [  0,   3,   0,   0,   0,   0,   0,   0,   0,  62, 145, 204, 228,\n",
       "        207, 213, 221, 218, 208, 211, 218, 224, 223, 219, 215, 224, 244,\n",
       "        159,   0],\n",
       "       [  0,   0,   0,   0,  18,  44,  82, 107, 189, 228, 220, 222, 217,\n",
       "        226, 200, 205, 211, 230, 224, 234, 176, 188, 250, 248, 233, 238,\n",
       "        215,   0],\n",
       "       [  0,  57, 187, 208, 224, 221, 224, 208, 204, 214, 208, 209, 200,\n",
       "        159, 245, 193, 206, 223, 255, 255, 221, 234, 221, 211, 220, 232,\n",
       "        246,   0],\n",
       "       [  3, 202, 228, 224, 221, 211, 211, 214, 205, 205, 205, 220, 240,\n",
       "         80, 150, 255, 229, 221, 188, 154, 191, 210, 204, 209, 222, 228,\n",
       "        225,   0],\n",
       "       [ 98, 233, 198, 210, 222, 229, 229, 234, 249, 220, 194, 215, 217,\n",
       "        241,  65,  73, 106, 117, 168, 219, 221, 215, 217, 223, 223, 224,\n",
       "        229,  29],\n",
       "       [ 75, 204, 212, 204, 193, 205, 211, 225, 216, 185, 197, 206, 198,\n",
       "        213, 240, 195, 227, 245, 239, 223, 218, 212, 209, 222, 220, 221,\n",
       "        230,  67],\n",
       "       [ 48, 203, 183, 194, 213, 197, 185, 190, 194, 192, 202, 214, 219,\n",
       "        221, 220, 236, 225, 216, 199, 206, 186, 181, 177, 172, 181, 205,\n",
       "        206, 115],\n",
       "       [  0, 122, 219, 193, 179, 171, 183, 196, 204, 210, 213, 207, 211,\n",
       "        210, 200, 196, 194, 191, 195, 191, 198, 192, 176, 156, 167, 177,\n",
       "        210,  92],\n",
       "       [  0,   0,  74, 189, 212, 191, 175, 172, 175, 181, 185, 188, 189,\n",
       "        188, 193, 198, 204, 209, 210, 210, 211, 188, 188, 194, 192, 216,\n",
       "        170,   0],\n",
       "       [  2,   0,   0,   0,  66, 200, 222, 237, 239, 242, 246, 243, 244,\n",
       "        221, 220, 193, 191, 179, 182, 182, 181, 176, 166, 168,  99,  58,\n",
       "          0,   0],\n",
       "       [  0,   0,   0,   0,   0,   0,   0,  40,  61,  44,  72,  41,  35,\n",
       "          0,   0,   0,   0,   0,   0,   0,   0,   0,   0,   0,   0,   0,\n",
       "          0,   0],\n",
       "       [  0,   0,   0,   0,   0,   0,   0,   0,   0,   0,   0,   0,   0,\n",
       "          0,   0,   0,   0,   0,   0,   0,   0,   0,   0,   0,   0,   0,\n",
       "          0,   0],\n",
       "       [  0,   0,   0,   0,   0,   0,   0,   0,   0,   0,   0,   0,   0,\n",
       "          0,   0,   0,   0,   0,   0,   0,   0,   0,   0,   0,   0,   0,\n",
       "          0,   0]], dtype=uint8)"
      ]
     },
     "execution_count": 7,
     "metadata": {},
     "output_type": "execute_result"
    }
   ],
   "source": [
    "train_images[0]"
   ]
  },
  {
   "cell_type": "code",
   "execution_count": 8,
   "id": "bf51ec01",
   "metadata": {},
   "outputs": [
    {
     "data": {
      "text/plain": [
       "9"
      ]
     },
     "execution_count": 8,
     "metadata": {},
     "output_type": "execute_result"
    }
   ],
   "source": [
    "train_labels[0]"
   ]
  },
  {
   "cell_type": "code",
   "execution_count": 9,
   "id": "2ae1f5e7",
   "metadata": {},
   "outputs": [
    {
     "data": {
      "image/png": "[encoded data removed]",
      "text/plain": [
       "<Figure size 432x288 with 1 Axes>"
      ]
     },
     "metadata": {},
     "output_type": "display_data"
    }
   ],
   "source": [
    "plt.imshow(train_images[0],cmap='gray_r')\n",
    "plt.xticks([])\n",
    "plt.yticks([])\n",
    "plt.grid(False)\n",
    "plt.title(train_labels[0])\n",
    "plt.show()"
   ]
  },
  {
   "cell_type": "code",
   "execution_count": 10,
   "id": "45d4cb0f",
   "metadata": {},
   "outputs": [],
   "source": [
    "class_names = ['T-shirt/top', 'Trouser', 'Pullover', 'Dress', 'Coat',\n",
    "               'Sandal', 'Shirt', 'Sneaker', 'Bag', 'Ankle boot']"
   ]
  },
  {
   "cell_type": "code",
   "execution_count": 11,
   "id": "1ba280c5",
   "metadata": {},
   "outputs": [
    {
     "data": {
      "text/plain": [
       "['T-shirt/top',\n",
       " 'Trouser',\n",
       " 'Pullover',\n",
       " 'Dress',\n",
       " 'Coat',\n",
       " 'Sandal',\n",
       " 'Shirt',\n",
       " 'Sneaker',\n",
       " 'Bag',\n",
       " 'Ankle boot']"
      ]
     },
     "execution_count": 11,
     "metadata": {},
     "output_type": "execute_result"
    }
   ],
   "source": [
    "class_names"
   ]
  },
  {
   "cell_type": "code",
   "execution_count": 12,
   "id": "eb37be45",
   "metadata": {},
   "outputs": [
    {
     "data": {
      "text/plain": [
       "60000"
      ]
     },
     "execution_count": 12,
     "metadata": {},
     "output_type": "execute_result"
    }
   ],
   "source": [
    "train_images.shape[0]\n",
    "# (60000,28,28) ---------> (60000,28,28,1) here 1 means num of channel"
   ]
  },
  {
   "cell_type": "code",
   "execution_count": 13,
   "id": "e6fe3092",
   "metadata": {},
   "outputs": [],
   "source": [
    "train_images = train_images.reshape(train_images.shape[0], 28, 28, 1)\n",
    "test_images = test_images.reshape(test_images.shape[0], 28, 28, 1)\n",
    "input_shape = (28, 28, 1)\n",
    "train_images = train_images.astype('float32')\n",
    "test_images = test_images.astype('float32')\n",
    "# Normalizing\n",
    "train_images /= 255\n",
    "test_images /= 255"
   ]
  },
  {
   "cell_type": "code",
   "execution_count": 14,
   "id": "45b38784",
   "metadata": {},
   "outputs": [
    {
     "data": {
      "text/plain": [
       "(60000, 28, 28, 1)"
      ]
     },
     "execution_count": 14,
     "metadata": {},
     "output_type": "execute_result"
    }
   ],
   "source": [
    "train_images.shape"
   ]
  },
  {
   "cell_type": "code",
   "execution_count": 15,
   "id": "38f628e3",
   "metadata": {},
   "outputs": [
    {
     "data": {
      "text/plain": [
       "(10000, 28, 28, 1)"
      ]
     },
     "execution_count": 15,
     "metadata": {},
     "output_type": "execute_result"
    }
   ],
   "source": [
    "test_images.shape"
   ]
  },
  {
   "cell_type": "code",
   "execution_count": 16,
   "id": "202b9391",
   "metadata": {},
   "outputs": [
    {
     "data": {
      "text/plain": [
       "array([[[0.        ],\n",
       "        [0.        ],\n",
       "        [0.        ],\n",
       "        [0.        ],\n",
       "        [0.        ],\n",
       "        [0.        ],\n",
       "        [0.        ],\n",
       "        [0.        ],\n",
       "        [0.        ],\n",
       "        [0.        ],\n",
       "        [0.        ],\n",
       "        [0.        ],\n",
       "        [0.        ],\n",
       "        [0.        ],\n",
       "        [0.        ],\n",
       "        [0.        ],\n",
       "        [0.        ],\n",
       "        [0.        ],\n",
       "        [0.        ],\n",
       "        [0.        ],\n",
       "        [0.        ],\n",
       "        [0.        ],\n",
       "        [0.        ],\n",
       "        [0.        ],\n",
       "        [0.        ],\n",
       "        [0.        ],\n",
       "        [0.        ],\n",
       "        [0.        ]],\n",
       "\n",
       "       [[0.        ],\n",
       "        [0.        ],\n",
       "        [0.        ],\n",
       "        [0.        ],\n",
       "        [0.        ],\n",
       "        [0.        ],\n",
       "        [0.        ],\n",
       "        [0.        ],\n",
       "        [0.        ],\n",
       "        [0.        ],\n",
       "        [0.        ],\n",
       "        [0.        ],\n",
       "        [0.        ],\n",
       "        [0.        ],\n",
       "        [0.        ],\n",
       "        [0.        ],\n",
       "        [0.        ],\n",
       "        [0.        ],\n",
       "        [0.        ],\n",
       "        [0.        ],\n",
       "        [0.        ],\n",
       "        [0.        ],\n",
       "        [0.        ],\n",
       "        [0.        ],\n",
       "        [0.        ],\n",
       "        [0.        ],\n",
       "        [0.        ],\n",
       "        [0.        ]],\n",
       "\n",
       "       [[0.        ],\n",
       "        [0.        ],\n",
       "        [0.        ],\n",
       "        [0.        ],\n",
       "        [0.        ],\n",
       "        [0.        ],\n",
       "        [0.        ],\n",
       "        [0.        ],\n",
       "        [0.        ],\n",
       "        [0.        ],\n",
       "        [0.        ],\n",
       "        [0.        ],\n",
       "        [0.        ],\n",
       "        [0.        ],\n",
       "        [0.        ],\n",
       "        [0.        ],\n",
       "        [0.        ],\n",
       "        [0.        ],\n",
       "        [0.        ],\n",
       "        [0.        ],\n",
       "        [0.        ],\n",
       "        [0.        ],\n",
       "        [0.        ],\n",
       "        [0.        ],\n",
       "        [0.        ],\n",
       "        [0.        ],\n",
       "        [0.        ],\n",
       "        [0.        ]],\n",
       "\n",
       "       [[0.        ],\n",
       "        [0.        ],\n",
       "        [0.        ],\n",
       "        [0.        ],\n",
       "        [0.        ],\n",
       "        [0.        ],\n",
       "        [0.        ],\n",
       "        [0.        ],\n",
       "        [0.        ],\n",
       "        [0.        ],\n",
       "        [0.        ],\n",
       "        [0.        ],\n",
       "        [0.00392157],\n",
       "        [0.        ],\n",
       "        [0.        ],\n",
       "        [0.05098039],\n",
       "        [0.28627452],\n",
       "        [0.        ],\n",
       "        [0.        ],\n",
       "        [0.00392157],\n",
       "        [0.01568628],\n",
       "        [0.        ],\n",
       "        [0.        ],\n",
       "        [0.        ],\n",
       "        [0.        ],\n",
       "        [0.00392157],\n",
       "        [0.00392157],\n",
       "        [0.        ]],\n",
       "\n",
       "       [[0.        ],\n",
       "        [0.        ],\n",
       "        [0.        ],\n",
       "        [0.        ],\n",
       "        [0.        ],\n",
       "        [0.        ],\n",
       "        [0.        ],\n",
       "        [0.        ],\n",
       "        [0.        ],\n",
       "        [0.        ],\n",
       "        [0.        ],\n",
       "        [0.        ],\n",
       "        [0.01176471],\n",
       "        [0.        ],\n",
       "        [0.14117648],\n",
       "        [0.53333336],\n",
       "        [0.49803922],\n",
       "        [0.24313726],\n",
       "        [0.21176471],\n",
       "        [0.        ],\n",
       "        [0.        ],\n",
       "        [0.        ],\n",
       "        [0.00392157],\n",
       "        [0.01176471],\n",
       "        [0.01568628],\n",
       "        [0.        ],\n",
       "        [0.        ],\n",
       "        [0.01176471]],\n",
       "\n",
       "       [[0.        ],\n",
       "        [0.        ],\n",
       "        [0.        ],\n",
       "        [0.        ],\n",
       "        [0.        ],\n",
       "        [0.        ],\n",
       "        [0.        ],\n",
       "        [0.        ],\n",
       "        [0.        ],\n",
       "        [0.        ],\n",
       "        [0.        ],\n",
       "        [0.        ],\n",
       "        [0.02352941],\n",
       "        [0.        ],\n",
       "        [0.4       ],\n",
       "        [0.8       ],\n",
       "        [0.6901961 ],\n",
       "        [0.5254902 ],\n",
       "        [0.5647059 ],\n",
       "        [0.48235294],\n",
       "        [0.09019608],\n",
       "        [0.        ],\n",
       "        [0.        ],\n",
       "        [0.        ],\n",
       "        [0.        ],\n",
       "        [0.04705882],\n",
       "        [0.03921569],\n",
       "        [0.        ]],\n",
       "\n",
       "       [[0.        ],\n",
       "        [0.        ],\n",
       "        [0.        ],\n",
       "        [0.        ],\n",
       "        [0.        ],\n",
       "        [0.        ],\n",
       "        [0.        ],\n",
       "        [0.        ],\n",
       "        [0.        ],\n",
       "        [0.        ],\n",
       "        [0.        ],\n",
       "        [0.        ],\n",
       "        [0.        ],\n",
       "        [0.        ],\n",
       "        [0.60784316],\n",
       "        [0.9254902 ],\n",
       "        [0.8117647 ],\n",
       "        [0.69803923],\n",
       "        [0.41960785],\n",
       "        [0.6117647 ],\n",
       "        [0.6313726 ],\n",
       "        [0.42745098],\n",
       "        [0.2509804 ],\n",
       "        [0.09019608],\n",
       "        [0.3019608 ],\n",
       "        [0.50980395],\n",
       "        [0.28235295],\n",
       "        [0.05882353]],\n",
       "\n",
       "       [[0.        ],\n",
       "        [0.        ],\n",
       "        [0.        ],\n",
       "        [0.        ],\n",
       "        [0.        ],\n",
       "        [0.        ],\n",
       "        [0.        ],\n",
       "        [0.        ],\n",
       "        [0.        ],\n",
       "        [0.        ],\n",
       "        [0.        ],\n",
       "        [0.00392157],\n",
       "        [0.        ],\n",
       "        [0.27058825],\n",
       "        [0.8117647 ],\n",
       "        [0.8745098 ],\n",
       "        [0.85490197],\n",
       "        [0.84705883],\n",
       "        [0.84705883],\n",
       "        [0.6392157 ],\n",
       "        [0.49803922],\n",
       "        [0.4745098 ],\n",
       "        [0.47843137],\n",
       "        [0.57254905],\n",
       "        [0.5529412 ],\n",
       "        [0.34509805],\n",
       "        [0.6745098 ],\n",
       "        [0.25882354]],\n",
       "\n",
       "       [[0.        ],\n",
       "        [0.        ],\n",
       "        [0.        ],\n",
       "        [0.        ],\n",
       "        [0.        ],\n",
       "        [0.        ],\n",
       "        [0.        ],\n",
       "        [0.        ],\n",
       "        [0.        ],\n",
       "        [0.00392157],\n",
       "        [0.00392157],\n",
       "        [0.00392157],\n",
       "        [0.        ],\n",
       "        [0.78431374],\n",
       "        [0.9098039 ],\n",
       "        [0.9098039 ],\n",
       "        [0.9137255 ],\n",
       "        [0.8980392 ],\n",
       "        [0.8745098 ],\n",
       "        [0.8745098 ],\n",
       "        [0.84313726],\n",
       "        [0.8352941 ],\n",
       "        [0.6431373 ],\n",
       "        [0.49803922],\n",
       "        [0.48235294],\n",
       "        [0.76862746],\n",
       "        [0.8980392 ],\n",
       "        [0.        ]],\n",
       "\n",
       "       [[0.        ],\n",
       "        [0.        ],\n",
       "        [0.        ],\n",
       "        [0.        ],\n",
       "        [0.        ],\n",
       "        [0.        ],\n",
       "        [0.        ],\n",
       "        [0.        ],\n",
       "        [0.        ],\n",
       "        [0.        ],\n",
       "        [0.        ],\n",
       "        [0.        ],\n",
       "        [0.        ],\n",
       "        [0.7176471 ],\n",
       "        [0.88235295],\n",
       "        [0.84705883],\n",
       "        [0.8745098 ],\n",
       "        [0.89411765],\n",
       "        [0.92156863],\n",
       "        [0.8901961 ],\n",
       "        [0.8784314 ],\n",
       "        [0.87058824],\n",
       "        [0.8784314 ],\n",
       "        [0.8666667 ],\n",
       "        [0.8745098 ],\n",
       "        [0.9607843 ],\n",
       "        [0.6784314 ],\n",
       "        [0.        ]],\n",
       "\n",
       "       [[0.        ],\n",
       "        [0.        ],\n",
       "        [0.        ],\n",
       "        [0.        ],\n",
       "        [0.        ],\n",
       "        [0.        ],\n",
       "        [0.        ],\n",
       "        [0.        ],\n",
       "        [0.        ],\n",
       "        [0.        ],\n",
       "        [0.        ],\n",
       "        [0.        ],\n",
       "        [0.        ],\n",
       "        [0.75686276],\n",
       "        [0.89411765],\n",
       "        [0.85490197],\n",
       "        [0.8352941 ],\n",
       "        [0.7764706 ],\n",
       "        [0.7058824 ],\n",
       "        [0.83137256],\n",
       "        [0.8235294 ],\n",
       "        [0.827451  ],\n",
       "        [0.8352941 ],\n",
       "        [0.8745098 ],\n",
       "        [0.8627451 ],\n",
       "        [0.9529412 ],\n",
       "        [0.7921569 ],\n",
       "        [0.        ]],\n",
       "\n",
       "       [[0.        ],\n",
       "        [0.        ],\n",
       "        [0.        ],\n",
       "        [0.        ],\n",
       "        [0.        ],\n",
       "        [0.        ],\n",
       "        [0.        ],\n",
       "        [0.        ],\n",
       "        [0.        ],\n",
       "        [0.00392157],\n",
       "        [0.01176471],\n",
       "        [0.        ],\n",
       "        [0.04705882],\n",
       "        [0.85882354],\n",
       "        [0.8627451 ],\n",
       "        [0.83137256],\n",
       "        [0.85490197],\n",
       "        [0.7529412 ],\n",
       "        [0.6627451 ],\n",
       "        [0.8901961 ],\n",
       "        [0.8156863 ],\n",
       "        [0.85490197],\n",
       "        [0.8784314 ],\n",
       "        [0.83137256],\n",
       "        [0.8862745 ],\n",
       "        [0.77254903],\n",
       "        [0.81960785],\n",
       "        [0.20392157]],\n",
       "\n",
       "       [[0.        ],\n",
       "        [0.        ],\n",
       "        [0.        ],\n",
       "        [0.        ],\n",
       "        [0.        ],\n",
       "        [0.        ],\n",
       "        [0.        ],\n",
       "        [0.        ],\n",
       "        [0.        ],\n",
       "        [0.        ],\n",
       "        [0.02352941],\n",
       "        [0.        ],\n",
       "        [0.3882353 ],\n",
       "        [0.95686275],\n",
       "        [0.87058824],\n",
       "        [0.8627451 ],\n",
       "        [0.85490197],\n",
       "        [0.79607844],\n",
       "        [0.7764706 ],\n",
       "        [0.8666667 ],\n",
       "        [0.84313726],\n",
       "        [0.8352941 ],\n",
       "        [0.87058824],\n",
       "        [0.8627451 ],\n",
       "        [0.9607843 ],\n",
       "        [0.46666667],\n",
       "        [0.654902  ],\n",
       "        [0.21960784]],\n",
       "\n",
       "       [[0.        ],\n",
       "        [0.        ],\n",
       "        [0.        ],\n",
       "        [0.        ],\n",
       "        [0.        ],\n",
       "        [0.        ],\n",
       "        [0.        ],\n",
       "        [0.        ],\n",
       "        [0.        ],\n",
       "        [0.01568628],\n",
       "        [0.        ],\n",
       "        [0.        ],\n",
       "        [0.21568628],\n",
       "        [0.9254902 ],\n",
       "        [0.89411765],\n",
       "        [0.9019608 ],\n",
       "        [0.89411765],\n",
       "        [0.9411765 ],\n",
       "        [0.9098039 ],\n",
       "        [0.8352941 ],\n",
       "        [0.85490197],\n",
       "        [0.8745098 ],\n",
       "        [0.91764706],\n",
       "        [0.8509804 ],\n",
       "        [0.8509804 ],\n",
       "        [0.81960785],\n",
       "        [0.36078432],\n",
       "        [0.        ]],\n",
       "\n",
       "       [[0.        ],\n",
       "        [0.        ],\n",
       "        [0.00392157],\n",
       "        [0.01568628],\n",
       "        [0.02352941],\n",
       "        [0.02745098],\n",
       "        [0.00784314],\n",
       "        [0.        ],\n",
       "        [0.        ],\n",
       "        [0.        ],\n",
       "        [0.        ],\n",
       "        [0.        ],\n",
       "        [0.92941177],\n",
       "        [0.8862745 ],\n",
       "        [0.8509804 ],\n",
       "        [0.8745098 ],\n",
       "        [0.87058824],\n",
       "        [0.85882354],\n",
       "        [0.87058824],\n",
       "        [0.8666667 ],\n",
       "        [0.84705883],\n",
       "        [0.8745098 ],\n",
       "        [0.8980392 ],\n",
       "        [0.84313726],\n",
       "        [0.85490197],\n",
       "        [1.        ],\n",
       "        [0.3019608 ],\n",
       "        [0.        ]],\n",
       "\n",
       "       [[0.        ],\n",
       "        [0.01176471],\n",
       "        [0.        ],\n",
       "        [0.        ],\n",
       "        [0.        ],\n",
       "        [0.        ],\n",
       "        [0.        ],\n",
       "        [0.        ],\n",
       "        [0.        ],\n",
       "        [0.24313726],\n",
       "        [0.5686275 ],\n",
       "        [0.8       ],\n",
       "        [0.89411765],\n",
       "        [0.8117647 ],\n",
       "        [0.8352941 ],\n",
       "        [0.8666667 ],\n",
       "        [0.85490197],\n",
       "        [0.8156863 ],\n",
       "        [0.827451  ],\n",
       "        [0.85490197],\n",
       "        [0.8784314 ],\n",
       "        [0.8745098 ],\n",
       "        [0.85882354],\n",
       "        [0.84313726],\n",
       "        [0.8784314 ],\n",
       "        [0.95686275],\n",
       "        [0.62352943],\n",
       "        [0.        ]],\n",
       "\n",
       "       [[0.        ],\n",
       "        [0.        ],\n",
       "        [0.        ],\n",
       "        [0.        ],\n",
       "        [0.07058824],\n",
       "        [0.17254902],\n",
       "        [0.32156864],\n",
       "        [0.41960785],\n",
       "        [0.7411765 ],\n",
       "        [0.89411765],\n",
       "        [0.8627451 ],\n",
       "        [0.87058824],\n",
       "        [0.8509804 ],\n",
       "        [0.8862745 ],\n",
       "        [0.78431374],\n",
       "        [0.8039216 ],\n",
       "        [0.827451  ],\n",
       "        [0.9019608 ],\n",
       "        [0.8784314 ],\n",
       "        [0.91764706],\n",
       "        [0.6901961 ],\n",
       "        [0.7372549 ],\n",
       "        [0.98039216],\n",
       "        [0.972549  ],\n",
       "        [0.9137255 ],\n",
       "        [0.93333334],\n",
       "        [0.84313726],\n",
       "        [0.        ]],\n",
       "\n",
       "       [[0.        ],\n",
       "        [0.22352941],\n",
       "        [0.73333335],\n",
       "        [0.8156863 ],\n",
       "        [0.8784314 ],\n",
       "        [0.8666667 ],\n",
       "        [0.8784314 ],\n",
       "        [0.8156863 ],\n",
       "        [0.8       ],\n",
       "        [0.8392157 ],\n",
       "        [0.8156863 ],\n",
       "        [0.81960785],\n",
       "        [0.78431374],\n",
       "        [0.62352943],\n",
       "        [0.9607843 ],\n",
       "        [0.75686276],\n",
       "        [0.80784315],\n",
       "        [0.8745098 ],\n",
       "        [1.        ],\n",
       "        [1.        ],\n",
       "        [0.8666667 ],\n",
       "        [0.91764706],\n",
       "        [0.8666667 ],\n",
       "        [0.827451  ],\n",
       "        [0.8627451 ],\n",
       "        [0.9098039 ],\n",
       "        [0.9647059 ],\n",
       "        [0.        ]],\n",
       "\n",
       "       [[0.01176471],\n",
       "        [0.7921569 ],\n",
       "        [0.89411765],\n",
       "        [0.8784314 ],\n",
       "        [0.8666667 ],\n",
       "        [0.827451  ],\n",
       "        [0.827451  ],\n",
       "        [0.8392157 ],\n",
       "        [0.8039216 ],\n",
       "        [0.8039216 ],\n",
       "        [0.8039216 ],\n",
       "        [0.8627451 ],\n",
       "        [0.9411765 ],\n",
       "        [0.3137255 ],\n",
       "        [0.5882353 ],\n",
       "        [1.        ],\n",
       "        [0.8980392 ],\n",
       "        [0.8666667 ],\n",
       "        [0.7372549 ],\n",
       "        [0.6039216 ],\n",
       "        [0.7490196 ],\n",
       "        [0.8235294 ],\n",
       "        [0.8       ],\n",
       "        [0.81960785],\n",
       "        [0.87058824],\n",
       "        [0.89411765],\n",
       "        [0.88235295],\n",
       "        [0.        ]],\n",
       "\n",
       "       [[0.38431373],\n",
       "        [0.9137255 ],\n",
       "        [0.7764706 ],\n",
       "        [0.8235294 ],\n",
       "        [0.87058824],\n",
       "        [0.8980392 ],\n",
       "        [0.8980392 ],\n",
       "        [0.91764706],\n",
       "        [0.9764706 ],\n",
       "        [0.8627451 ],\n",
       "        [0.7607843 ],\n",
       "        [0.84313726],\n",
       "        [0.8509804 ],\n",
       "        [0.94509804],\n",
       "        [0.25490198],\n",
       "        [0.28627452],\n",
       "        [0.41568628],\n",
       "        [0.45882353],\n",
       "        [0.65882355],\n",
       "        [0.85882354],\n",
       "        [0.8666667 ],\n",
       "        [0.84313726],\n",
       "        [0.8509804 ],\n",
       "        [0.8745098 ],\n",
       "        [0.8745098 ],\n",
       "        [0.8784314 ],\n",
       "        [0.8980392 ],\n",
       "        [0.11372549]],\n",
       "\n",
       "       [[0.29411766],\n",
       "        [0.8       ],\n",
       "        [0.83137256],\n",
       "        [0.8       ],\n",
       "        [0.75686276],\n",
       "        [0.8039216 ],\n",
       "        [0.827451  ],\n",
       "        [0.88235295],\n",
       "        [0.84705883],\n",
       "        [0.7254902 ],\n",
       "        [0.77254903],\n",
       "        [0.80784315],\n",
       "        [0.7764706 ],\n",
       "        [0.8352941 ],\n",
       "        [0.9411765 ],\n",
       "        [0.7647059 ],\n",
       "        [0.8901961 ],\n",
       "        [0.9607843 ],\n",
       "        [0.9372549 ],\n",
       "        [0.8745098 ],\n",
       "        [0.85490197],\n",
       "        [0.83137256],\n",
       "        [0.81960785],\n",
       "        [0.87058824],\n",
       "        [0.8627451 ],\n",
       "        [0.8666667 ],\n",
       "        [0.9019608 ],\n",
       "        [0.2627451 ]],\n",
       "\n",
       "       [[0.1882353 ],\n",
       "        [0.79607844],\n",
       "        [0.7176471 ],\n",
       "        [0.7607843 ],\n",
       "        [0.8352941 ],\n",
       "        [0.77254903],\n",
       "        [0.7254902 ],\n",
       "        [0.74509805],\n",
       "        [0.7607843 ],\n",
       "        [0.7529412 ],\n",
       "        [0.7921569 ],\n",
       "        [0.8392157 ],\n",
       "        [0.85882354],\n",
       "        [0.8666667 ],\n",
       "        [0.8627451 ],\n",
       "        [0.9254902 ],\n",
       "        [0.88235295],\n",
       "        [0.84705883],\n",
       "        [0.78039217],\n",
       "        [0.80784315],\n",
       "        [0.7294118 ],\n",
       "        [0.70980394],\n",
       "        [0.69411767],\n",
       "        [0.6745098 ],\n",
       "        [0.70980394],\n",
       "        [0.8039216 ],\n",
       "        [0.80784315],\n",
       "        [0.4509804 ]],\n",
       "\n",
       "       [[0.        ],\n",
       "        [0.47843137],\n",
       "        [0.85882354],\n",
       "        [0.75686276],\n",
       "        [0.7019608 ],\n",
       "        [0.67058825],\n",
       "        [0.7176471 ],\n",
       "        [0.76862746],\n",
       "        [0.8       ],\n",
       "        [0.8235294 ],\n",
       "        [0.8352941 ],\n",
       "        [0.8117647 ],\n",
       "        [0.827451  ],\n",
       "        [0.8235294 ],\n",
       "        [0.78431374],\n",
       "        [0.76862746],\n",
       "        [0.7607843 ],\n",
       "        [0.7490196 ],\n",
       "        [0.7647059 ],\n",
       "        [0.7490196 ],\n",
       "        [0.7764706 ],\n",
       "        [0.7529412 ],\n",
       "        [0.6901961 ],\n",
       "        [0.6117647 ],\n",
       "        [0.654902  ],\n",
       "        [0.69411767],\n",
       "        [0.8235294 ],\n",
       "        [0.36078432]],\n",
       "\n",
       "       [[0.        ],\n",
       "        [0.        ],\n",
       "        [0.2901961 ],\n",
       "        [0.7411765 ],\n",
       "        [0.83137256],\n",
       "        [0.7490196 ],\n",
       "        [0.6862745 ],\n",
       "        [0.6745098 ],\n",
       "        [0.6862745 ],\n",
       "        [0.70980394],\n",
       "        [0.7254902 ],\n",
       "        [0.7372549 ],\n",
       "        [0.7411765 ],\n",
       "        [0.7372549 ],\n",
       "        [0.75686276],\n",
       "        [0.7764706 ],\n",
       "        [0.8       ],\n",
       "        [0.81960785],\n",
       "        [0.8235294 ],\n",
       "        [0.8235294 ],\n",
       "        [0.827451  ],\n",
       "        [0.7372549 ],\n",
       "        [0.7372549 ],\n",
       "        [0.7607843 ],\n",
       "        [0.7529412 ],\n",
       "        [0.84705883],\n",
       "        [0.6666667 ],\n",
       "        [0.        ]],\n",
       "\n",
       "       [[0.00784314],\n",
       "        [0.        ],\n",
       "        [0.        ],\n",
       "        [0.        ],\n",
       "        [0.25882354],\n",
       "        [0.78431374],\n",
       "        [0.87058824],\n",
       "        [0.92941177],\n",
       "        [0.9372549 ],\n",
       "        [0.9490196 ],\n",
       "        [0.9647059 ],\n",
       "        [0.9529412 ],\n",
       "        [0.95686275],\n",
       "        [0.8666667 ],\n",
       "        [0.8627451 ],\n",
       "        [0.75686276],\n",
       "        [0.7490196 ],\n",
       "        [0.7019608 ],\n",
       "        [0.7137255 ],\n",
       "        [0.7137255 ],\n",
       "        [0.70980394],\n",
       "        [0.6901961 ],\n",
       "        [0.6509804 ],\n",
       "        [0.65882355],\n",
       "        [0.3882353 ],\n",
       "        [0.22745098],\n",
       "        [0.        ],\n",
       "        [0.        ]],\n",
       "\n",
       "       [[0.        ],\n",
       "        [0.        ],\n",
       "        [0.        ],\n",
       "        [0.        ],\n",
       "        [0.        ],\n",
       "        [0.        ],\n",
       "        [0.        ],\n",
       "        [0.15686275],\n",
       "        [0.23921569],\n",
       "        [0.17254902],\n",
       "        [0.28235295],\n",
       "        [0.16078432],\n",
       "        [0.13725491],\n",
       "        [0.        ],\n",
       "        [0.        ],\n",
       "        [0.        ],\n",
       "        [0.        ],\n",
       "        [0.        ],\n",
       "        [0.        ],\n",
       "        [0.        ],\n",
       "        [0.        ],\n",
       "        [0.        ],\n",
       "        [0.        ],\n",
       "        [0.        ],\n",
       "        [0.        ],\n",
       "        [0.        ],\n",
       "        [0.        ],\n",
       "        [0.        ]],\n",
       "\n",
       "       [[0.        ],\n",
       "        [0.        ],\n",
       "        [0.        ],\n",
       "        [0.        ],\n",
       "        [0.        ],\n",
       "        [0.        ],\n",
       "        [0.        ],\n",
       "        [0.        ],\n",
       "        [0.        ],\n",
       "        [0.        ],\n",
       "        [0.        ],\n",
       "        [0.        ],\n",
       "        [0.        ],\n",
       "        [0.        ],\n",
       "        [0.        ],\n",
       "        [0.        ],\n",
       "        [0.        ],\n",
       "        [0.        ],\n",
       "        [0.        ],\n",
       "        [0.        ],\n",
       "        [0.        ],\n",
       "        [0.        ],\n",
       "        [0.        ],\n",
       "        [0.        ],\n",
       "        [0.        ],\n",
       "        [0.        ],\n",
       "        [0.        ],\n",
       "        [0.        ]],\n",
       "\n",
       "       [[0.        ],\n",
       "        [0.        ],\n",
       "        [0.        ],\n",
       "        [0.        ],\n",
       "        [0.        ],\n",
       "        [0.        ],\n",
       "        [0.        ],\n",
       "        [0.        ],\n",
       "        [0.        ],\n",
       "        [0.        ],\n",
       "        [0.        ],\n",
       "        [0.        ],\n",
       "        [0.        ],\n",
       "        [0.        ],\n",
       "        [0.        ],\n",
       "        [0.        ],\n",
       "        [0.        ],\n",
       "        [0.        ],\n",
       "        [0.        ],\n",
       "        [0.        ],\n",
       "        [0.        ],\n",
       "        [0.        ],\n",
       "        [0.        ],\n",
       "        [0.        ],\n",
       "        [0.        ],\n",
       "        [0.        ],\n",
       "        [0.        ],\n",
       "        [0.        ]]], dtype=float32)"
      ]
     },
     "execution_count": 16,
     "metadata": {},
     "output_type": "execute_result"
    }
   ],
   "source": [
    "train_images[0]"
   ]
  },
  {
   "cell_type": "code",
   "execution_count": 17,
   "id": "7df1bc2c",
   "metadata": {},
   "outputs": [
    {
     "data": {
      "text/plain": [
       "(60000, 28, 28, 1)"
      ]
     },
     "execution_count": 17,
     "metadata": {},
     "output_type": "execute_result"
    }
   ],
   "source": [
    "train_images.shape # 60000,28,28,1 "
   ]
  },
  {
   "cell_type": "code",
   "execution_count": 18,
   "id": "4d2e676b",
   "metadata": {},
   "outputs": [
    {
     "data": {
      "text/plain": [
       "(28, 28, 1)"
      ]
     },
     "execution_count": 18,
     "metadata": {},
     "output_type": "execute_result"
    }
   ],
   "source": [
    "train_images[0].shape # 28,28,1"
   ]
  },
  {
   "cell_type": "code",
   "execution_count": 19,
   "id": "abd0576c",
   "metadata": {},
   "outputs": [
    {
     "data": {
      "image/png": "[encoded data removed]",
      "text/plain": [
       "<Figure size 432x288 with 1 Axes>"
      ]
     },
     "metadata": {},
     "output_type": "display_data"
    }
   ],
   "source": [
    "plt.imshow(train_images[4557],cmap='gray_r')\n",
    "plt.xticks([])\n",
    "plt.yticks([])\n",
    "plt.grid(False)\n",
    "plt.title(class_names[train_labels[4557]])\n",
    "plt.show()"
   ]
  },
  {
   "cell_type": "code",
   "execution_count": 20,
   "id": "c85211fc",
   "metadata": {},
   "outputs": [
    {
     "data": {
      "text/plain": [
       "<matplotlib.image.AxesImage at 0x1a9e098aa90>"
      ]
     },
     "execution_count": 20,
     "metadata": {},
     "output_type": "execute_result"
    },
    {
     "data": {
      "image/png": "[encoded data removed]",
      "text/plain": [
       "<Figure size 432x288 with 1 Axes>"
      ]
     },
     "metadata": {
      "needs_background": "light"
     },
     "output_type": "display_data"
    }
   ],
   "source": [
    "plt.imshow(train_images[0],cmap='gray_r')"
   ]
  },
  {
   "cell_type": "code",
   "execution_count": 21,
   "id": "11b36e41",
   "metadata": {},
   "outputs": [
    {
     "name": "stdout",
     "output_type": "stream",
     "text": [
      "Model: \"sequential\"\n",
      "_________________________________________________________________\n",
      "Layer (type)                 Output Shape              Param #   \n",
      "=================================================================\n",
      "conv2d (Conv2D)              (None, 26, 26, 28)        280       \n",
      "_________________________________________________________________\n",
      "max_pooling2d (MaxPooling2D) (None, 13, 13, 28)        0         \n",
      "_________________________________________________________________\n",
      "conv2d_1 (Conv2D)            (None, 11, 11, 56)        14168     \n",
      "_________________________________________________________________\n",
      "max_pooling2d_1 (MaxPooling2 (None, 5, 5, 56)          0         \n",
      "_________________________________________________________________\n",
      "conv2d_2 (Conv2D)            (None, 3, 3, 56)          28280     \n",
      "=================================================================\n",
      "Total params: 42,728\n",
      "Trainable params: 42,728\n",
      "Non-trainable params: 0\n",
      "_________________________________________________________________\n"
     ]
    }
   ],
   "source": [
    "# CNN\n",
    "model = models.Sequential()\n",
    "model.add(layers.Conv2D(28,(3,3),activation='relu',input_shape=(28,28,1)))\n",
    "model.add(layers.MaxPool2D((2,2)))\n",
    "model.add(layers.Conv2D(56,(3,3),activation='relu'))\n",
    "model.add(layers.MaxPool2D((2,2)))\n",
    "model.add(layers.Conv2D(56,(3,3),activation='relu'))\n",
    "model.summary()"
   ]
  },
  {
   "cell_type": "code",
   "execution_count": 22,
   "id": "0c620e98",
   "metadata": {},
   "outputs": [
    {
     "name": "stdout",
     "output_type": "stream",
     "text": [
      "Model: \"sequential\"\n",
      "_________________________________________________________________\n",
      "Layer (type)                 Output Shape              Param #   \n",
      "=================================================================\n",
      "conv2d (Conv2D)              (None, 26, 26, 28)        280       \n",
      "_________________________________________________________________\n",
      "max_pooling2d (MaxPooling2D) (None, 13, 13, 28)        0         \n",
      "_________________________________________________________________\n",
      "conv2d_1 (Conv2D)            (None, 11, 11, 56)        14168     \n",
      "_________________________________________________________________\n",
      "max_pooling2d_1 (MaxPooling2 (None, 5, 5, 56)          0         \n",
      "_________________________________________________________________\n",
      "conv2d_2 (Conv2D)            (None, 3, 3, 56)          28280     \n",
      "_________________________________________________________________\n",
      "flatten (Flatten)            (None, 504)               0         \n",
      "_________________________________________________________________\n",
      "dense (Dense)                (None, 64)                32320     \n",
      "_________________________________________________________________\n",
      "dense_1 (Dense)              (None, 10)                650       \n",
      "=================================================================\n",
      "Total params: 75,698\n",
      "Trainable params: 75,698\n",
      "Non-trainable params: 0\n",
      "_________________________________________________________________\n"
     ]
    }
   ],
   "source": [
    "model.add(layers.Flatten())\n",
    "model.add(layers.Dense(64,activation='relu'))\n",
    "model.add(layers.Dense(10,activation='softmax'))\n",
    "model.summary()"
   ]
  },
  {
   "cell_type": "code",
   "execution_count": 23,
   "id": "55e29d2b",
   "metadata": {},
   "outputs": [],
   "source": [
    "model.compile(optimizer='adam',loss=tf.keras.losses.SparseCategoricalCrossentropy(from_logits=True),metrics=['accuracy'])"
   ]
  },
  {
   "cell_type": "code",
   "execution_count": 24,
   "id": "aaf3f80c",
   "metadata": {},
   "outputs": [
    {
     "name": "stdout",
     "output_type": "stream",
     "text": [
      "Epoch 1/10\n"
     ]
    },
    {
     "name": "stderr",
     "output_type": "stream",
     "text": [
      "C:\\Users\\MEGHAVI COMPUTERS\\.conda\\envs\\deepl\\lib\\site-packages\\keras\\backend.py:4907: UserWarning: \"`sparse_categorical_crossentropy` received `from_logits=True`, but the `output` argument was produced by a sigmoid or softmax activation and thus does not represent logits. Was this intended?\"\n",
      "  '\"`sparse_categorical_crossentropy` received `from_logits=True`, but '\n"
     ]
    },
    {
     "name": "stdout",
     "output_type": "stream",
     "text": [
      "4800/4800 [==============================] - 68s 14ms/step - loss: 0.4890 - accuracy: 0.8174 - val_loss: 0.3521 - val_accuracy: 0.8742\n",
      "Epoch 2/10\n",
      "4800/4800 [==============================] - 67s 14ms/step - loss: 0.3178 - accuracy: 0.8826 - val_loss: 0.3059 - val_accuracy: 0.8878\n",
      "Epoch 3/10\n",
      "4800/4800 [==============================] - 67s 14ms/step - loss: 0.2707 - accuracy: 0.8986 - val_loss: 0.2951 - val_accuracy: 0.8961\n",
      "Epoch 4/10\n",
      "4800/4800 [==============================] - 67s 14ms/step - loss: 0.2424 - accuracy: 0.9106 - val_loss: 0.2743 - val_accuracy: 0.9002\n",
      "Epoch 5/10\n",
      "4800/4800 [==============================] - 66s 14ms/step - loss: 0.2215 - accuracy: 0.9177 - val_loss: 0.2725 - val_accuracy: 0.9012\n",
      "Epoch 6/10\n",
      "4800/4800 [==============================] - 67s 14ms/step - loss: 0.2006 - accuracy: 0.9246 - val_loss: 0.2623 - val_accuracy: 0.9070\n",
      "Epoch 7/10\n",
      "4800/4800 [==============================] - 68s 14ms/step - loss: 0.1860 - accuracy: 0.9294 - val_loss: 0.2814 - val_accuracy: 0.9053\n",
      "Epoch 8/10\n",
      "4800/4800 [==============================] - 68s 14ms/step - loss: 0.1697 - accuracy: 0.9362 - val_loss: 0.2927 - val_accuracy: 0.9014\n",
      "Epoch 9/10\n",
      "4800/4800 [==============================] - 68s 14ms/step - loss: 0.1607 - accuracy: 0.9391 - val_loss: 0.2922 - val_accuracy: 0.9074\n",
      "Epoch 10/10\n",
      "4800/4800 [==============================] - 68s 14ms/step - loss: 0.1480 - accuracy: 0.9427 - val_loss: 0.2980 - val_accuracy: 0.9066\n"
     ]
    }
   ],
   "source": [
    "history = model.fit(train_images,train_labels,epochs=10,batch_size=10,validation_split=0.2)\n"
   ]
  },
  {
   "cell_type": "code",
   "execution_count": 25,
   "id": "0e693037",
   "metadata": {},
   "outputs": [
    {
     "name": "stdout",
     "output_type": "stream",
     "text": [
      "313/313 [==============================] - 4s 11ms/step - loss: 0.3176 - accuracy: 0.9017\n"
     ]
    },
    {
     "data": {
      "text/plain": [
       "[0.31757789850234985, 0.9017000198364258]"
      ]
     },
     "execution_count": 25,
     "metadata": {},
     "output_type": "execute_result"
    }
   ],
   "source": [
    "model.evaluate(test_images,test_labels)"
   ]
  },
  {
   "cell_type": "code",
   "execution_count": 26,
   "id": "cb814dc1",
   "metadata": {},
   "outputs": [
    {
     "data": {
      "image/png": "[encoded data removed]",
      "text/plain": [
       "<Figure size 432x288 with 1 Axes>"
      ]
     },
     "metadata": {},
     "output_type": "display_data"
    }
   ],
   "source": [
    "plt.imshow(test_images[597],cmap='gray_r')\n",
    "plt.grid(False)\n",
    "plt.title(test_labels[597])\n",
    "plt.xticks([])\n",
    "plt.yticks([])\n",
    "plt.show()"
   ]
  },
  {
   "cell_type": "code",
   "execution_count": 27,
   "id": "889065b8",
   "metadata": {},
   "outputs": [
    {
     "data": {
      "text/plain": [
       "array([[5.0945668e-13, 8.4953501e-14, 4.0600696e-13, 2.8540685e-12,\n",
       "        2.7506648e-11, 1.7790752e-07, 2.1545201e-12, 9.9999976e-01,\n",
       "        1.0655705e-12, 1.7003890e-07]], dtype=float32)"
      ]
     },
     "execution_count": 27,
     "metadata": {},
     "output_type": "execute_result"
    }
   ],
   "source": [
    "model.predict(test_images[597].reshape(1,28,28,1))"
   ]
  },
  {
   "cell_type": "code",
   "execution_count": 28,
   "id": "12e2f02f",
   "metadata": {},
   "outputs": [
    {
     "data": {
      "text/plain": [
       "array([[0., 0., 0., 0., 0., 0., 0., 1., 0., 0.]], dtype=float32)"
      ]
     },
     "execution_count": 28,
     "metadata": {},
     "output_type": "execute_result"
    }
   ],
   "source": [
    "model.predict(test_images[597].reshape(1,28,28,1)).round(2)"
   ]
  },
  {
   "cell_type": "code",
   "execution_count": null,
   "id": "07cf949d",
   "metadata": {},
   "outputs": [],
   "source": []
  }
 ],
 "metadata": {
  "kernelspec": {
   "display_name": "Python 3",
   "language": "python",
   "name": "python3"
  },
  "language_info": {
   "codemirror_mode": {
    "name": "ipython",
    "version": 3
   },
   "file_extension": ".py",
   "mimetype": "text/x-python",
   "name": "python",
   "nbconvert_exporter": "python",
   "pygments_lexer": "ipython3",
   "version": "3.6.13"
  }
 },
 "nbformat": 4,
 "nbformat_minor": 5
}
